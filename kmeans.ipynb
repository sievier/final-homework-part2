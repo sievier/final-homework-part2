{
 "cells": [
  {
   "cell_type": "code",
   "execution_count": 1,
   "metadata": {},
   "outputs": [],
   "source": [
    "#!pip install gensim"
   ]
  },
  {
   "cell_type": "code",
   "execution_count": 2,
   "metadata": {},
   "outputs": [
    {
     "name": "stdout",
     "output_type": "stream",
     "text": [
      "(5677, 3)\n"
     ]
    },
    {
     "data": {
      "text/html": [
       "<div>\n",
       "<style scoped>\n",
       "    .dataframe tbody tr th:only-of-type {\n",
       "        vertical-align: middle;\n",
       "    }\n",
       "\n",
       "    .dataframe tbody tr th {\n",
       "        vertical-align: top;\n",
       "    }\n",
       "\n",
       "    .dataframe thead th {\n",
       "        text-align: right;\n",
       "    }\n",
       "</style>\n",
       "<table border=\"1\" class=\"dataframe\">\n",
       "  <thead>\n",
       "    <tr style=\"text-align: right;\">\n",
       "      <th></th>\n",
       "      <th>order_id</th>\n",
       "      <th>user_name</th>\n",
       "      <th>content</th>\n",
       "    </tr>\n",
       "  </thead>\n",
       "  <tbody>\n",
       "    <tr>\n",
       "      <th>0</th>\n",
       "      <td>1</td>\n",
       "      <td>-精緻的豬豬女戰士-</td>\n",
       "      <td>#你好2020#新年第一天元气满满的早起出门买早饭结果高估了自己抗冻能力回家成功冻发烧（大概...</td>\n",
       "    </tr>\n",
       "  </tbody>\n",
       "</table>\n",
       "</div>"
      ],
      "text/plain": [
       "   order_id   user_name                                            content\n",
       "0         1  -精緻的豬豬女戰士-  #你好2020#新年第一天元气满满的早起出门买早饭结果高估了自己抗冻能力回家成功冻发烧（大概..."
      ]
     },
     "execution_count": 2,
     "metadata": {},
     "output_type": "execute_result"
    }
   ],
   "source": [
    "import pandas as pd\n",
    "data = pd.read_csv('./1-1.csv',encoding='gb18030')\n",
    "print(data.shape)\n",
    "data.head(1)"
   ]
  },
  {
   "cell_type": "code",
   "execution_count": 3,
   "metadata": {},
   "outputs": [
    {
     "name": "stderr",
     "output_type": "stream",
     "text": [
      "C:\\Users\\sievier\\anaconda3\\envs\\py\\lib\\site-packages\\gensim\\similarities\\__init__.py:15: UserWarning: The gensim.similarities.levenshtein submodule is disabled, because the optional Levenshtein package <https://pypi.org/project/python-Levenshtein/> is unavailable. Install Levenhstein (e.g. `pip install python-Levenshtein`) to suppress this warning.\n",
      "  warnings.warn(msg)\n"
     ]
    }
   ],
   "source": [
    "# 加载词性标注模块\n",
    "import jieba.posseg\n",
    "# 加载词向量训练模块\n",
    "from gensim import models, similarities\n",
    "from gensim.models import Word2Vec\n",
    "# 添加 notebook 可视化模块\n",
    "from tqdm.notebook import tqdm"
   ]
  },
  {
   "cell_type": "code",
   "execution_count": 4,
   "metadata": {},
   "outputs": [
    {
     "name": "stderr",
     "output_type": "stream",
     "text": [
      "Building prefix dict from the default dictionary ...\n",
      "Loading model from cache C:\\Users\\sievier\\AppData\\Local\\Temp\\jieba.cache\n",
      "Loading model cost 0.696 seconds.\n",
      "Prefix dict has been built successfully.\n"
     ]
    },
    {
     "data": {
      "text/plain": [
       "[pair('新冠', 'n'), pair('疫情', 'n')]"
      ]
     },
     "execution_count": 4,
     "metadata": {},
     "output_type": "execute_result"
    }
   ],
   "source": [
    "list(jieba.posseg.cut('新冠疫情'))"
   ]
  },
  {
   "cell_type": "code",
   "execution_count": 5,
   "metadata": {},
   "outputs": [
    {
     "data": {
      "application/vnd.jupyter.widget-view+json": {
       "model_id": "a6140eff28394de5b1c945641a9ba8e4",
       "version_major": 2,
       "version_minor": 0
      },
      "text/plain": [
       "  0%|          | 0/5677 [00:00<?, ?it/s]"
      ]
     },
     "metadata": {},
     "output_type": "display_data"
    }
   ],
   "source": [
    "# 收集用户评论中的长度大于 1 的名词\n",
    "n_word = list()\n",
    "# 将用户评论转换为 list 的形式\n",
    "sentence_list = data['content'].astype(str).tolist()\n",
    "# 实时显示处理状态\n",
    "for sentence in tqdm(sentence_list):\n",
    "    tmp = list()\n",
    "    for word, flag in jieba.posseg.cut(sentence):\n",
    "        if 'n' in flag and len(word) > 1:\n",
    "            tmp.append(word)\n",
    "    n_word.append(tmp)"
   ]
  },
  {
   "cell_type": "code",
   "execution_count": 6,
   "metadata": {},
   "outputs": [],
   "source": [
    "# size 为词向量维度数,min_count 为统计词频出现的最小词频数,其余参数使用默认\n",
    "sizes = 300\n",
    "model = models.word2vec.Word2Vec(n_word,vector_size = sizes,min_count=1)"
   ]
  },
  {
   "cell_type": "code",
   "execution_count": 7,
   "metadata": {},
   "outputs": [
    {
     "data": {
      "text/plain": [
       "[('全文', 0.9999424815177917),\n",
       " ('病毒', 0.999928891658783),\n",
       " ('医疗', 0.9999166131019592),\n",
       " ('症状', 0.9999143481254578),\n",
       " ('情况', 0.9999082684516907)]"
      ]
     },
     "execution_count": 7,
     "metadata": {},
     "output_type": "execute_result"
    }
   ],
   "source": [
    "# 输入测试用例\n",
    "keys = '口罩'\n",
    "topn = 5\n",
    "# most_similar 就是通过找到词语向量并计算向量余弦相似度，找到最近的 topn 的词语\n",
    "model.wv.most_similar(positive=[keys], topn=topn)"
   ]
  },
  {
   "cell_type": "code",
   "execution_count": 8,
   "metadata": {},
   "outputs": [
    {
     "data": {
      "text/plain": [
       "(300,)"
      ]
     },
     "execution_count": 8,
     "metadata": {},
     "output_type": "execute_result"
    }
   ],
   "source": [
    "words = '病毒'\n",
    "model.wv[words].shape"
   ]
  },
  {
   "cell_type": "code",
   "execution_count": 9,
   "metadata": {},
   "outputs": [
    {
     "data": {
      "text/plain": [
       "8760"
      ]
     },
     "execution_count": 9,
     "metadata": {},
     "output_type": "execute_result"
    }
   ],
   "source": [
    "# 提取全部的词\n",
    "words_list = list(model.wv.key_to_index)\n",
    "word_vector = model.wv[words_list]\n",
    "# 打印主题词典的个数\n",
    "len(word_vector)"
   ]
  },
  {
   "cell_type": "code",
   "execution_count": 12,
   "metadata": {},
   "outputs": [],
   "source": [
    "# 加载 KMeans 聚类算法模块\n",
    "from sklearn.cluster import KMeans\n",
    "\n",
    "# 加载画图模块\n",
    "import matplotlib.pyplot as plt\n",
    "%matplotlib inline"
   ]
  },
  {
   "cell_type": "code",
   "execution_count": 13,
   "metadata": {},
   "outputs": [
    {
     "data": {
      "application/vnd.jupyter.widget-view+json": {
       "model_id": "70eb58a7ab6b48ae8fccd41aa1e2f819",
       "version_major": 2,
       "version_minor": 0
      },
      "text/plain": [
       "  0%|          | 0/20 [00:00<?, ?it/s]"
      ]
     },
     "metadata": {},
     "output_type": "display_data"
    },
    {
     "data": {
      "image/png": "[encoded data removed]",
      "text/plain": [
       "<Figure size 432x288 with 1 Axes>"
      ]
     },
     "metadata": {
      "needs_background": "light"
     },
     "output_type": "display_data"
    }
   ],
   "source": [
    "# SSE 是所有样本的聚类误差，代表了聚类效果的好坏，sse_error_list 存放每次结果的误差平方和\n",
    "sse_error_list = list()\n",
    "# 设置最大的聚类中心点个数\n",
    "\n",
    "cluster_max = 20\n",
    "# 实时显示聚类训练的情况\n",
    "\n",
    "for clusters in tqdm(range(1, cluster_max + 1)):\n",
    "    # 构造聚类器，只改变聚类个数，其余均使用默认配置\n",
    "    clf = KMeans(n_clusters=clusters)\n",
    "    # 开始训练模型\n",
    "    clf.fit(word_vector)\n",
    "    sse_error_list.append(clf.inertia_)\n",
    "\n",
    "# 横坐标表示聚类个数\n",
    "plt.xlabel('topic_cluster')\n",
    "\n",
    "# 纵坐标表示误差\n",
    "plt.ylabel('error')\n",
    "\n",
    "# 对聚类点进行显示设置\n",
    "plt.plot(sse_error_list, '*-')\n",
    "\n",
    "# 对聚类结果进行可视化\n",
    "plt.show()"
   ]
  },
  {
   "cell_type": "code",
   "execution_count": 14,
   "metadata": {},
   "outputs": [
    {
     "data": {
      "text/plain": [
       "213.6922287940979"
      ]
     },
     "execution_count": 14,
     "metadata": {},
     "output_type": "execute_result"
    }
   ],
   "source": [
    "sse_error_mean = sum(sse_error_list) / len(sse_error_list)\n",
    "sse_error_mean"
   ]
  },
  {
   "cell_type": "code",
   "execution_count": 15,
   "metadata": {},
   "outputs": [],
   "source": [
    "# 定义处理函数\n",
    "def get_best_clusters(sse_error_list):\n",
    "    # 通过均值来判断肘部的点,index 从 0 开始\n",
    "    for index, value in enumerate(sse_error_list):\n",
    "        if sse_error_mean > value:\n",
    "            # 返回不超过均值点的下一个聚类索引即可\n",
    "            return index + 2"
   ]
  },
  {
   "cell_type": "code",
   "execution_count": 16,
   "metadata": {},
   "outputs": [
    {
     "data": {
      "text/plain": [
       "6"
      ]
     },
     "execution_count": 16,
     "metadata": {},
     "output_type": "execute_result"
    }
   ],
   "source": [
    "best_topic_cluster = get_best_clusters(sse_error_list)\n",
    "best_topic_cluster"
   ]
  },
  {
   "cell_type": "code",
   "execution_count": 17,
   "metadata": {},
   "outputs": [],
   "source": [
    "# 使用最佳的聚类个数初始化模型，其余使用默认设置\n",
    "clf = KMeans(n_clusters=best_topic_cluster)"
   ]
  },
  {
   "cell_type": "code",
   "execution_count": 18,
   "metadata": {},
   "outputs": [],
   "source": [
    "topic_cluster_labels = clf.fit_predict(word_vector)"
   ]
  },
  {
   "cell_type": "code",
   "execution_count": 19,
   "metadata": {},
   "outputs": [
    {
     "data": {
      "text/plain": [
       "6"
      ]
     },
     "execution_count": 19,
     "metadata": {},
     "output_type": "execute_result"
    }
   ],
   "source": [
    "cluster_centers_list = clf.cluster_centers_\n",
    "len(cluster_centers_list)"
   ]
  },
  {
   "cell_type": "code",
   "execution_count": 20,
   "metadata": {},
   "outputs": [
    {
     "data": {
      "application/vnd.jupyter.widget-view+json": {
       "model_id": "aa61b7f6395d48c7bcefbba59a5e408e",
       "version_major": 2,
       "version_minor": 0
      },
      "text/plain": [
       "  0%|          | 0/8760 [00:00<?, ?it/s]"
      ]
     },
     "metadata": {},
     "output_type": "display_data"
    }
   ],
   "source": [
    "import numpy as np\n",
    "# 存储计算的欧式距离\n",
    "cal_EuclideanDistance = list()\n",
    "\n",
    "for index, words in tqdm(list(enumerate(words_list))):\n",
    "    # 取出词的词向量\n",
    "    words_vec = model.wv[words]\n",
    "    # 取出词的聚类中心点的向量\n",
    "    center_vec = cluster_centers_list[topic_cluster_labels[index]]\n",
    "    # 计算词向量到聚类中心点的欧式距离\n",
    "    dist = np.sqrt(np.sum(np.square(words_vec - center_vec)))\n",
    "    cal_EuclideanDistance.append(dist)"
   ]
  },
  {
   "cell_type": "code",
   "execution_count": 21,
   "metadata": {},
   "outputs": [
    {
     "data": {
      "text/html": [
       "<div>\n",
       "<style scoped>\n",
       "    .dataframe tbody tr th:only-of-type {\n",
       "        vertical-align: middle;\n",
       "    }\n",
       "\n",
       "    .dataframe tbody tr th {\n",
       "        vertical-align: top;\n",
       "    }\n",
       "\n",
       "    .dataframe thead th {\n",
       "        text-align: right;\n",
       "    }\n",
       "</style>\n",
       "<table border=\"1\" class=\"dataframe\">\n",
       "  <thead>\n",
       "    <tr style=\"text-align: right;\">\n",
       "      <th></th>\n",
       "      <th>words</th>\n",
       "      <th>topic_cluster</th>\n",
       "      <th>euclidean_distance</th>\n",
       "    </tr>\n",
       "  </thead>\n",
       "  <tbody>\n",
       "    <tr>\n",
       "      <th>0</th>\n",
       "      <td>老板</td>\n",
       "      <td>1</td>\n",
       "      <td>0.370542</td>\n",
       "    </tr>\n",
       "    <tr>\n",
       "      <th>1</th>\n",
       "      <td>房间</td>\n",
       "      <td>1</td>\n",
       "      <td>0.661859</td>\n",
       "    </tr>\n",
       "    <tr>\n",
       "      <th>2</th>\n",
       "      <td>酒店</td>\n",
       "      <td>1</td>\n",
       "      <td>0.584855</td>\n",
       "    </tr>\n",
       "    <tr>\n",
       "      <th>3</th>\n",
       "      <td>热情</td>\n",
       "      <td>2</td>\n",
       "      <td>0.549656</td>\n",
       "    </tr>\n",
       "    <tr>\n",
       "      <th>4</th>\n",
       "      <td>环境</td>\n",
       "      <td>2</td>\n",
       "      <td>0.265376</td>\n",
       "    </tr>\n",
       "  </tbody>\n",
       "</table>\n",
       "</div>"
      ],
      "text/plain": [
       "  words  topic_cluster  euclidean_distance\n",
       "0    老板              1            0.370542\n",
       "1    房间              1            0.661859\n",
       "2    酒店              1            0.584855\n",
       "3    热情              2            0.549656\n",
       "4    环境              2            0.265376"
      ]
     },
     "execution_count": 21,
     "metadata": {},
     "output_type": "execute_result"
    }
   ],
   "source": [
    "# 设置 DataFrame 的列名\n",
    "topic_cluster_data = pd.DataFrame({\n",
    "    'words': words_list,\n",
    "    'topic_cluster': topic_cluster_labels,\n",
    "    'euclidean_distance': cal_EuclideanDistance\n",
    "})\n",
    "\n",
    "# 显示前几行数据\n",
    "topic_cluster_data.head()"
   ]
  },
  {
   "cell_type": "code",
   "execution_count": 22,
   "metadata": {},
   "outputs": [
    {
     "data": {
      "text/plain": [
       "array([1, 2, 4, 5, 3, 0])"
      ]
     },
     "execution_count": 22,
     "metadata": {},
     "output_type": "execute_result"
    }
   ],
   "source": [
    "topic_cluster_data['topic_cluster'].unique()"
   ]
  },
  {
   "cell_type": "code",
   "execution_count": 23,
   "metadata": {},
   "outputs": [
    {
     "data": {
      "text/plain": [
       "topic_cluster\n",
       "0    6913\n",
       "1      59\n",
       "2     136\n",
       "3    1246\n",
       "4      17\n",
       "5     389\n",
       "Name: topic_cluster, dtype: int64"
      ]
     },
     "execution_count": 23,
     "metadata": {},
     "output_type": "execute_result"
    }
   ],
   "source": [
    "#热度评估\n",
    "topic_cluster_data['topic_cluster'].groupby(\n",
    "    topic_cluster_data['topic_cluster']).count()"
   ]
  },
  {
   "cell_type": "code",
   "execution_count": 24,
   "metadata": {},
   "outputs": [],
   "source": [
    "# 按照词与中心点的欧式距离进行降序排列\n",
    "def get_top_cluster_words(topic_cluster_labels, topn=20):\n",
    "    # 定义主题和主题词的存储结构\n",
    "    cluster_result = dict()\n",
    "\n",
    "    # 分别处理每个主题下的主题词并按照主题词与主题中心的欧式距离尽心倒序处理\n",
    "    for topic_cluster_label in topic_cluster_labels:\n",
    "        topic_select = topic_cluster_data[topic_cluster_data['topic_cluster'] ==\n",
    "                                          topic_cluster_label].sort_values(\n",
    "            by=[\"euclidean_distance\"],\n",
    "            ascending=False)\n",
    "        # 输出每个主题下的 topn 的主题词\n",
    "        cluster_result[topic_cluster_label] = topic_select['words'].tolist()[\n",
    "            :topn]\n",
    "    return cluster_result"
   ]
  },
  {
   "cell_type": "code",
   "execution_count": 25,
   "metadata": {},
   "outputs": [
    {
     "data": {
      "text/plain": [
       "[0, 1, 2, 3, 4, 5]"
      ]
     },
     "execution_count": 25,
     "metadata": {},
     "output_type": "execute_result"
    }
   ],
   "source": [
    "topic_cluster_labels_list = list(range(best_topic_cluster))\n",
    "topic_cluster_labels_list"
   ]
  },
  {
   "cell_type": "code",
   "execution_count": 26,
   "metadata": {},
   "outputs": [
    {
     "name": "stdout",
     "output_type": "stream",
     "text": [
      "主题 # 0- 主题词: ['亮堂', '差价', '降价', '博主', '断语', '体质', '商务部', '拜托', '患病', '国学', '产物', '小虫子', '名义', '尊巴', '易凡', '咸菜', '阵雨', '盒子', '栏目', '检察机关', '楼台', '苏州', '霓虹', '用具', '联票', '未央', '小孩子', '迎新春', '客户端', '防盗锁']\n",
      "主题 # 1- 主题词: ['网页', '问题', '视频', '国家', '重症', '出院', '社区', '旅游', '专家', '重庆', '医护人员', '链接', '房间', '建议', '价格', '院士', '收费站', '免费', '医疗', '南门', '酒店', '开学', '时候', '热水', '朋友', '症状', '情况', '早餐', '味道', '小区']\n",
      "主题 # 2- 主题词: ['战疫', '病人', '中医药', '公共卫生', '电话', '卫生', '厕所', '抗击', '住宿', '人民', '卫生间', '抗疫', '报告', '家庭', '医务人员', '热情', '态度', '丁香', '服务', '步行', '总体', '方面', '个人', '祝福', '妈妈', '院长', '窗户', '条件', '中心', '效果']\n",
      "主题 # 3- 主题词: ['家长', '百度', '系统', '音乐', '李圆霸', '垃圾', '战斗', '马桶', '世界卫生组织', '现场', '家属', '心脏', '血管', '市长', '病房', '江西', '防治法', '买票', '联欢会', '河北', '大队', '任务', '阻击战', '照片', '洗手间', '用餐', '资金', '案例', '大量', '单人间']\n",
      "主题 # 4- 主题词: ['疫情', '病毒', '大家', '防控', '医院', '生活', '湖北', '中国', '工作', '患者', '武汉', '时间', '肺炎', '病例', '医生', '口罩', '全文']\n",
      "主题 # 5- 主题词: ['学生', '父母', '人们', '客人', '门诊', '儿子', '能量', '太帅', '一家人', '空气', '众志成城', '人数', '衣服', '用品', '办法', '市民', '特色', '计划', '防疫', '天坑', '服务中心', '大厅', '房子', '淡季', '线路', '想象', '英雄', '社会', '标准', '有关']\n"
     ]
    }
   ],
   "source": [
    "# 设定每一个主题显示 topn 的词语\n",
    "topn = 30\n",
    "topic_result = get_top_cluster_words(topic_cluster_labels_list, topn=topn)\n",
    "# 打印每个主题下的词语\n",
    "for topic_num, topic_words in topic_result.items():\n",
    "    print('主题 # {}- 主题词: {}'.format(topic_num, topic_words))"
   ]
  }
 ],
 "metadata": {
  "kernelspec": {
   "display_name": "py",
   "language": "python",
   "name": "py"
  },
  "language_info": {
   "codemirror_mode": {
    "name": "ipython",
    "version": 3
   },
   "file_extension": ".py",
   "mimetype": "text/x-python",
   "name": "python",
   "nbconvert_exporter": "python",
   "pygments_lexer": "ipython3",
   "version": "3.6.13"
  }
 },
 "nbformat": 4,
 "nbformat_minor": 4
}
