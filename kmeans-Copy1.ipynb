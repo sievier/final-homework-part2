{
 "cells": [
  {
   "cell_type": "code",
   "execution_count": 74,
   "metadata": {},
   "outputs": [
    {
     "name": "stdout",
     "output_type": "stream",
     "text": [
      "Requirement already satisfied: jieba in c:\\users\\sievier\\anaconda3\\lib\\site-packages (0.42.1)\n"
     ]
    }
   ],
   "source": [
    "!pip install jieba"
   ]
  },
  {
   "cell_type": "code",
   "execution_count": 75,
   "metadata": {},
   "outputs": [
    {
     "name": "stdout",
     "output_type": "stream",
     "text": [
      "(2656, 5)\n"
     ]
    },
    {
     "data": {
      "text/html": [
       "<div>\n",
       "<style scoped>\n",
       "    .dataframe tbody tr th:only-of-type {\n",
       "        vertical-align: middle;\n",
       "    }\n",
       "\n",
       "    .dataframe tbody tr th {\n",
       "        vertical-align: top;\n",
       "    }\n",
       "\n",
       "    .dataframe thead th {\n",
       "        text-align: right;\n",
       "    }\n",
       "</style>\n",
       "<table border=\"1\" class=\"dataframe\">\n",
       "  <thead>\n",
       "    <tr style=\"text-align: right;\">\n",
       "      <th></th>\n",
       "      <th>order_id</th>\n",
       "      <th>user_name</th>\n",
       "      <th>content</th>\n",
       "      <th>Unnamed: 3</th>\n",
       "      <th>Unnamed: 4</th>\n",
       "    </tr>\n",
       "  </thead>\n",
       "  <tbody>\n",
       "    <tr>\n",
       "      <th>0</th>\n",
       "      <td>1</td>\n",
       "      <td>搜狐</td>\n",
       "      <td>实际死亡或超90万!福奇承认美疫情被“严重低估”</td>\n",
       "      <td>28分钟前</td>\n",
       "      <td>搜狐</td>\n",
       "    </tr>\n",
       "  </tbody>\n",
       "</table>\n",
       "</div>"
      ],
      "text/plain": [
       "   order_id user_name                   content Unnamed: 3 Unnamed: 4\n",
       "0         1        搜狐  实际死亡或超90万!福奇承认美疫情被“严重低估”      28分钟前         搜狐"
      ]
     },
     "execution_count": 75,
     "metadata": {},
     "output_type": "execute_result"
    }
   ],
   "source": [
    "import pandas as pd\n",
    "data = pd.read_csv('./1-4.csv',encoding='utf-8')\n",
    "print(data.shape)\n",
    "data.head(1)"
   ]
  },
  {
   "cell_type": "code",
   "execution_count": 76,
   "metadata": {},
   "outputs": [],
   "source": [
    "# 加载词性标注模块\n",
    "import jieba.posseg\n",
    "# 加载词向量训练模块\n",
    "from gensim import models, similarities\n",
    "from gensim.models import  Word2Vec\n",
    "\n",
    "# 添加 notebook 可视化模块\n",
    "from tqdm.notebook import tqdm"
   ]
  },
  {
   "cell_type": "code",
   "execution_count": 77,
   "metadata": {},
   "outputs": [
    {
     "data": {
      "text/plain": [
       "[pair('新冠', 'n'), pair('疫情', 'n')]"
      ]
     },
     "execution_count": 77,
     "metadata": {},
     "output_type": "execute_result"
    }
   ],
   "source": [
    "list(jieba.posseg.cut('新冠疫情'))"
   ]
  },
  {
   "cell_type": "code",
   "execution_count": 78,
   "metadata": {},
   "outputs": [
    {
     "data": {
      "application/vnd.jupyter.widget-view+json": {
       "model_id": "152a2f3292f743f3aae1d310bba8e620",
       "version_major": 2,
       "version_minor": 0
      },
      "text/plain": [
       "  0%|          | 0/2656 [00:00<?, ?it/s]"
      ]
     },
     "metadata": {},
     "output_type": "display_data"
    }
   ],
   "source": [
    "# 收集用户评论中的长度大于 1 的名词\n",
    "n_word = list()\n",
    "# 将用户评论转换为 list 的形式\n",
    "sentence_list = data['content'].astype(str).tolist()\n",
    "# 实时显示处理状态\n",
    "for sentence in tqdm(sentence_list):\n",
    "    tmp = list()\n",
    "    for word, flag in jieba.posseg.cut(sentence):\n",
    "        if 'n' in flag and len(word) > 1:\n",
    "            tmp.append(word)\n",
    "    n_word.append(tmp)"
   ]
  },
  {
   "cell_type": "code",
   "execution_count": 79,
   "metadata": {},
   "outputs": [],
   "source": [
    "# size 为词向量维度数,min_count 为统计词频出现的最小词频数,其余参数使用默认\n",
    "model = Word2Vec(n_word, vector_size=300, min_count=1)"
   ]
  },
  {
   "cell_type": "code",
   "execution_count": 80,
   "metadata": {},
   "outputs": [
    {
     "data": {
      "text/plain": [
       "[('疫情', 0.999652087688446),\n",
       " ('新冠', 0.9995741844177246),\n",
       " ('肺炎', 0.9995473027229309),\n",
       " ('防控', 0.9994533061981201),\n",
       " ('印度', 0.9994246959686279),\n",
       " ('全球', 0.9993873834609985),\n",
       " ('患者', 0.9993849992752075),\n",
       " ('中国', 0.9993739128112793),\n",
       " ('工作', 0.9993358254432678),\n",
       " ('病例', 0.9993148446083069)]"
      ]
     },
     "execution_count": 80,
     "metadata": {},
     "output_type": "execute_result"
    }
   ],
   "source": [
    "# 输入测试用例\n",
    "keys = '病毒'\n",
    "topn = 10\n",
    "# most_similar 就是通过找到词语向量并计算向量余弦相似度，找到最近的 topn 的词语\n",
    "model.wv.most_similar(positive=[keys], topn=topn)"
   ]
  },
  {
   "cell_type": "code",
   "execution_count": 81,
   "metadata": {},
   "outputs": [
    {
     "data": {
      "text/plain": [
       "(300,)"
      ]
     },
     "execution_count": 81,
     "metadata": {},
     "output_type": "execute_result"
    }
   ],
   "source": [
    "words = '病毒'\n",
    "model.wv[words].shape"
   ]
  },
  {
   "cell_type": "code",
   "execution_count": 82,
   "metadata": {},
   "outputs": [
    {
     "data": {
      "text/plain": [
       "2134"
      ]
     },
     "execution_count": 82,
     "metadata": {},
     "output_type": "execute_result"
    }
   ],
   "source": [
    "# 提取全部的词\n",
    "words_list = list(model.wv.key_to_index)\n",
    "word_vector = model.wv[words_list]\n",
    "# 打印主题词典的个数\n",
    "len(word_vector)"
   ]
  },
  {
   "cell_type": "code",
   "execution_count": 83,
   "metadata": {},
   "outputs": [],
   "source": [
    "# 加载 KMeans 聚类算法模块\n",
    "from sklearn.cluster import KMeans\n",
    "\n",
    "# 加载画图模块\n",
    "import matplotlib.pyplot as plt\n",
    "%matplotlib inline"
   ]
  },
  {
   "cell_type": "code",
   "execution_count": 84,
   "metadata": {},
   "outputs": [
    {
     "data": {
      "application/vnd.jupyter.widget-view+json": {
       "model_id": "478fcf46282b4ae1821f5c0c577f6f4b",
       "version_major": 2,
       "version_minor": 0
      },
      "text/plain": [
       "  0%|          | 0/30 [00:00<?, ?it/s]"
      ]
     },
     "metadata": {},
     "output_type": "display_data"
    },
    {
     "data": {
      "image/png": "[encoded data removed]",
      "text/plain": [
       "<Figure size 432x288 with 1 Axes>"
      ]
     },
     "metadata": {
      "needs_background": "light"
     },
     "output_type": "display_data"
    }
   ],
   "source": [
    "# SSE 是所有样本的聚类误差，代表了聚类效果的好坏，sse_error_list 存放每次结果的误差平方和\n",
    "sse_error_list = list()\n",
    "# 设置最大的聚类中心点个数\n",
    "\n",
    "cluster_max = 30\n",
    "# 实时显示聚类训练的情况\n",
    "\n",
    "for clusters in tqdm(range(1, cluster_max + 1)):\n",
    "    # 构造聚类器，只改变聚类个数，其余均使用默认配置\n",
    "    clf = KMeans(n_clusters=clusters)\n",
    "    # 开始训练模型\n",
    "    clf.fit(word_vector)\n",
    "    sse_error_list.append(clf.inertia_)\n",
    "\n",
    "# 横坐标表示聚类个数\n",
    "plt.xlabel('topic_cluster')\n",
    "\n",
    "# 纵坐标表示误差\n",
    "plt.ylabel('error')\n",
    "\n",
    "# 对聚类点进行显示设置\n",
    "plt.plot(sse_error_list, '*-')\n",
    "\n",
    "# 对聚类结果进行可视化\n",
    "plt.show()"
   ]
  },
  {
   "cell_type": "code",
   "execution_count": 85,
   "metadata": {},
   "outputs": [
    {
     "data": {
      "text/plain": [
       "7.651594662666321"
      ]
     },
     "execution_count": 85,
     "metadata": {},
     "output_type": "execute_result"
    }
   ],
   "source": [
    "sse_error_mean = sum(sse_error_list) / len(sse_error_list)\n",
    "sse_error_mean"
   ]
  },
  {
   "cell_type": "code",
   "execution_count": 86,
   "metadata": {},
   "outputs": [],
   "source": [
    "# 定义处理函数\n",
    "def get_best_clusters(sse_error_list):\n",
    "    # 通过均值来判断肘部的点,index 从 0 开始\n",
    "    for index, value in enumerate(sse_error_list):\n",
    "        if sse_error_mean > value:\n",
    "            # 返回不超过均值点的下一个聚类索引即可\n",
    "            return index + 2"
   ]
  },
  {
   "cell_type": "code",
   "execution_count": 87,
   "metadata": {},
   "outputs": [
    {
     "data": {
      "text/plain": [
       "7"
      ]
     },
     "execution_count": 87,
     "metadata": {},
     "output_type": "execute_result"
    }
   ],
   "source": [
    "best_topic_cluster = get_best_clusters(sse_error_list)\n",
    "best_topic_cluster"
   ]
  },
  {
   "cell_type": "code",
   "execution_count": 88,
   "metadata": {},
   "outputs": [],
   "source": [
    "# 使用最佳的聚类个数初始化模型，其余使用默认设置\n",
    "clf = KMeans(n_clusters=best_topic_cluster)"
   ]
  },
  {
   "cell_type": "code",
   "execution_count": 89,
   "metadata": {},
   "outputs": [],
   "source": [
    "topic_cluster_labels = clf.fit_predict(word_vector)"
   ]
  },
  {
   "cell_type": "code",
   "execution_count": 90,
   "metadata": {},
   "outputs": [
    {
     "data": {
      "text/plain": [
       "7"
      ]
     },
     "execution_count": 90,
     "metadata": {},
     "output_type": "execute_result"
    }
   ],
   "source": [
    "cluster_centers_list = clf.cluster_centers_\n",
    "len(cluster_centers_list)"
   ]
  },
  {
   "cell_type": "code",
   "execution_count": 91,
   "metadata": {},
   "outputs": [
    {
     "data": {
      "application/vnd.jupyter.widget-view+json": {
       "model_id": "598c196a45344e23a71cd8d00b518c1f",
       "version_major": 2,
       "version_minor": 0
      },
      "text/plain": [
       "  0%|          | 0/2134 [00:00<?, ?it/s]"
      ]
     },
     "metadata": {},
     "output_type": "display_data"
    }
   ],
   "source": [
    "import numpy as np\n",
    "# 存储计算的欧式距离\n",
    "cal_EuclideanDistance = list()\n",
    "\n",
    "for index, words in tqdm(list(enumerate(words_list))):\n",
    "    # 取出词的词向量\n",
    "    words_vec = model.wv[words]\n",
    "    # 取出词的聚类中心点的向量\n",
    "    center_vec = cluster_centers_list[topic_cluster_labels[index]]\n",
    "    # 计算词向量到聚类中心点的欧式距离\n",
    "    dist = np.sqrt(np.sum(np.square(words_vec - center_vec)))\n",
    "    cal_EuclideanDistance.append(dist)"
   ]
  },
  {
   "cell_type": "code",
   "execution_count": 92,
   "metadata": {},
   "outputs": [
    {
     "data": {
      "text/html": [
       "<div>\n",
       "<style scoped>\n",
       "    .dataframe tbody tr th:only-of-type {\n",
       "        vertical-align: middle;\n",
       "    }\n",
       "\n",
       "    .dataframe tbody tr th {\n",
       "        vertical-align: top;\n",
       "    }\n",
       "\n",
       "    .dataframe thead th {\n",
       "        text-align: right;\n",
       "    }\n",
       "</style>\n",
       "<table border=\"1\" class=\"dataframe\">\n",
       "  <thead>\n",
       "    <tr style=\"text-align: right;\">\n",
       "      <th></th>\n",
       "      <th>words</th>\n",
       "      <th>topic_cluster</th>\n",
       "      <th>euclidean_distance</th>\n",
       "    </tr>\n",
       "  </thead>\n",
       "  <tbody>\n",
       "    <tr>\n",
       "      <th>0</th>\n",
       "      <td>疫情</td>\n",
       "      <td>3</td>\n",
       "      <td>0.211651</td>\n",
       "    </tr>\n",
       "    <tr>\n",
       "      <th>1</th>\n",
       "      <td>新冠</td>\n",
       "      <td>3</td>\n",
       "      <td>0.211651</td>\n",
       "    </tr>\n",
       "    <tr>\n",
       "      <th>2</th>\n",
       "      <td>肺炎</td>\n",
       "      <td>6</td>\n",
       "      <td>0.485098</td>\n",
       "    </tr>\n",
       "    <tr>\n",
       "      <th>3</th>\n",
       "      <td>病例</td>\n",
       "      <td>6</td>\n",
       "      <td>0.139416</td>\n",
       "    </tr>\n",
       "    <tr>\n",
       "      <th>4</th>\n",
       "      <td>防控</td>\n",
       "      <td>6</td>\n",
       "      <td>0.079188</td>\n",
       "    </tr>\n",
       "  </tbody>\n",
       "</table>\n",
       "</div>"
      ],
      "text/plain": [
       "  words  topic_cluster  euclidean_distance\n",
       "0    疫情              3            0.211651\n",
       "1    新冠              3            0.211651\n",
       "2    肺炎              6            0.485098\n",
       "3    病例              6            0.139416\n",
       "4    防控              6            0.079188"
      ]
     },
     "execution_count": 92,
     "metadata": {},
     "output_type": "execute_result"
    }
   ],
   "source": [
    "# 设置 DataFrame 的列名\n",
    "topic_cluster_data = pd.DataFrame({\n",
    "    'words': words_list,\n",
    "    'topic_cluster': topic_cluster_labels,\n",
    "    'euclidean_distance': cal_EuclideanDistance\n",
    "})\n",
    "\n",
    "# 显示前几行数据\n",
    "topic_cluster_data.head()"
   ]
  },
  {
   "cell_type": "code",
   "execution_count": 93,
   "metadata": {},
   "outputs": [
    {
     "data": {
      "text/plain": [
       "array([3, 6, 1, 2, 5, 4, 0])"
      ]
     },
     "execution_count": 93,
     "metadata": {},
     "output_type": "execute_result"
    }
   ],
   "source": [
    "topic_cluster_data['topic_cluster'].unique()"
   ]
  },
  {
   "cell_type": "code",
   "execution_count": 94,
   "metadata": {},
   "outputs": [
    {
     "data": {
      "text/plain": [
       "topic_cluster\n",
       "0     541\n",
       "1      32\n",
       "2      70\n",
       "3       2\n",
       "4    1269\n",
       "5     210\n",
       "6      10\n",
       "Name: topic_cluster, dtype: int64"
      ]
     },
     "execution_count": 94,
     "metadata": {},
     "output_type": "execute_result"
    }
   ],
   "source": [
    "#热度评估\n",
    "topic_cluster_data['topic_cluster'].groupby(\n",
    "    topic_cluster_data['topic_cluster']).count()"
   ]
  },
  {
   "cell_type": "code",
   "execution_count": 95,
   "metadata": {},
   "outputs": [],
   "source": [
    "# 按照词与中心点的欧式距离进行降序排列\n",
    "def get_top_cluster_words(topic_cluster_labels, topn=10):\n",
    "    # 定义主题和主题词的存储结构\n",
    "    cluster_result = dict()\n",
    "\n",
    "    # 分别处理每个主题下的主题词并按照主题词与主题中心的欧式距离进行倒序处理\n",
    "    for topic_cluster_label in topic_cluster_labels:\n",
    "        topic_select = topic_cluster_data[topic_cluster_data['topic_cluster'] ==\n",
    "                                          topic_cluster_label].sort_values(\n",
    "            by=[\"euclidean_distance\"],\n",
    "            ascending=False)\n",
    "        # 输出每个主题下的 topn 的主题词\n",
    "        cluster_result[topic_cluster_label] = topic_select['words'].tolist()[\n",
    "            :topn]\n",
    "    return cluster_result"
   ]
  },
  {
   "cell_type": "code",
   "execution_count": 96,
   "metadata": {},
   "outputs": [
    {
     "data": {
      "text/plain": [
       "[0, 1, 2, 3, 4, 5, 6]"
      ]
     },
     "execution_count": 96,
     "metadata": {},
     "output_type": "execute_result"
    }
   ],
   "source": [
    "topic_cluster_labels_list = list(range(best_topic_cluster))\n",
    "topic_cluster_labels_list"
   ]
  },
  {
   "cell_type": "code",
   "execution_count": 97,
   "metadata": {},
   "outputs": [
    {
     "name": "stdout",
     "output_type": "stream",
     "text": [
      "主题 # 0- 主题词: ['历史', '舆论', '趋势', '香港', '床位', '灾难', '纽约', '战疫', '薪资', '复学']\n",
      "主题 # 1- 主题词: ['抗击', '疫苗', '指挥部', '美国', '最新消息', '新闻', '发布会', '网友', '世界', '市场']\n",
      "主题 # 2- 主题词: ['冲击', '政策', '习近平', '感染者', '台湾', '国际', '韩国', '首例', '情况', '莫迪']\n",
      "主题 # 3- 主题词: ['疫情', '新冠']\n",
      "主题 # 4- 主题词: ['工作组', '浙江省', '军队', '四次会议', '谎言', '李文亮', '宜春', '一家人', '思客', '大占率']\n",
      "主题 # 5- 主题词: ['免费', '日增', '传染', '形势', '康复', '源头', '实际', '康复者', '科技', '常态']\n",
      "主题 # 6- 主题词: ['肺炎', '全球', '印度', '影响', '患者', '病例', '防控', '工作', '中国', '病毒']\n"
     ]
    }
   ],
   "source": [
    "# 设定每一个主题显示 topn 的词语\n",
    "topn = 10\n",
    "topic_result = get_top_cluster_words(topic_cluster_labels_list, topn=topn)\n",
    "# 打印每个主题下的词语\n",
    "for topic_num, topic_words in topic_result.items():\n",
    "    print('主题 # {}- 主题词: {}'.format(topic_num, topic_words))"
   ]
  },
  {
   "cell_type": "code",
   "execution_count": null,
   "metadata": {},
   "outputs": [],
   "source": []
  }
 ],
 "metadata": {
  "kernelspec": {
   "display_name": "py",
   "language": "python",
   "name": "py"
  },
  "language_info": {
   "codemirror_mode": {
    "name": "ipython",
    "version": 3
   },
   "file_extension": ".py",
   "mimetype": "text/x-python",
   "name": "python",
   "nbconvert_exporter": "python",
   "pygments_lexer": "ipython3",
   "version": "3.6.13"
  }
 },
 "nbformat": 4,
 "nbformat_minor": 4
}
